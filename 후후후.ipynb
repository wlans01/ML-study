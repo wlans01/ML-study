{
  "nbformat": 4,
  "nbformat_minor": 0,
  "metadata": {
    "colab": {
      "name": "후후후.ipynb",
      "provenance": [],
      "collapsed_sections": [],
      "authorship_tag": "ABX9TyOg/YzItUciQn9lmUJ6PtyU",
      "include_colab_link": true
    },
    "kernelspec": {
      "name": "python3",
      "display_name": "Python 3"
    },
    "language_info": {
      "name": "python"
    }
  },
  "cells": [
    {
      "cell_type": "markdown",
      "metadata": {
        "id": "view-in-github",
        "colab_type": "text"
      },
      "source": [
        "<a href=\"https://colab.research.google.com/github/wlans01/ML-study/blob/main/%ED%9B%84%ED%9B%84%ED%9B%84.ipynb\" target=\"_parent\"><img src=\"https://colab.research.google.com/assets/colab-badge.svg\" alt=\"Open In Colab\"/></a>"
      ]
    },
    {
      "cell_type": "code",
      "metadata": {
        "id": "DoRM4zxfbpOd"
      },
      "source": [
        "from scipy.optimize import fsolve\n",
        "import numpy as np\n",
        "import matplotlib.pyplot as plt\n"
      ],
      "execution_count": 43,
      "outputs": []
    },
    {
      "cell_type": "code",
      "metadata": {
        "id": "_AvtSNWPcWV7"
      },
      "source": [
        "line= lambda x: x+3"
      ],
      "execution_count": 44,
      "outputs": []
    },
    {
      "cell_type": "code",
      "metadata": {
        "id": "MkjEW0W5ck95"
      },
      "source": [
        "solution = fsolve(line,0)"
      ],
      "execution_count": 45,
      "outputs": []
    },
    {
      "cell_type": "code",
      "metadata": {
        "colab": {
          "base_uri": "https://localhost:8080/"
        },
        "id": "4drTX3EBcqe0",
        "outputId": "e9f1ae24-d1cc-4337-994c-5f8977d9aec1"
      },
      "source": [
        "print(solution)"
      ],
      "execution_count": 46,
      "outputs": [
        {
          "output_type": "stream",
          "name": "stdout",
          "text": [
            "[-3.]\n"
          ]
        }
      ]
    },
    {
      "cell_type": "code",
      "metadata": {
        "id": "uqTFgJj1cr3L"
      },
      "source": [
        "f=lambda z,a: (300000000*(a**8) -12000000*(a**6)*(z**2)+(z**4)*(-1+3*(z**4))-100*(a**2)*(z**2)*(5+12*(z**4))+3750*(a**4)*(-5+48*(z**4)))"
      ],
      "execution_count": 91,
      "outputs": []
    },
    {
      "cell_type": "code",
      "metadata": {
        "id": "3TvVO5aHiE3p"
      },
      "source": [
        "f_1=lambda a: ((np.log((20*a-2*z)/np.sqrt(100*(a**2)-(z**2))))-(np.log((-20*a+2*z)/np.sqrt(100*(a**2)-(z**2)))))"
      ],
      "execution_count": 156,
      "outputs": []
    },
    {
      "cell_type": "code",
      "metadata": {
        "id": "s2FpP5lIjXCn"
      },
      "source": [
        "f_2=lambda a: (3*np.pi*((100*(a**2)-(z**2))**(11/2)))"
      ],
      "execution_count": 155,
      "outputs": []
    },
    {
      "cell_type": "code",
      "metadata": {
        "id": "Vl_Xx6lAiErg"
      },
      "source": [
        "def F(q,w):\n",
        "  return lambda z,a:q(z,a)*w(z,a)"
      ],
      "execution_count": 68,
      "outputs": []
    },
    {
      "cell_type": "code",
      "metadata": {
        "id": "1uD0jzkSlUS0"
      },
      "source": [
        "(10*f(10,0)*f_1(10,0))/f_2(10,0)"
      ],
      "execution_count": null,
      "outputs": []
    },
    {
      "cell_type": "code",
      "metadata": {
        "id": "qcAksql8itFI"
      },
      "source": [
        "f1=lambda a:( -z*(300000000*(a**8) -12000000*(a**6)*z**2+(z**4)*(-1+3*(z**4))-100*(a**2)*(z**2)*(5+12*(z**4))+3750*(a**4)*(-5+48*(z**4)))*(np.log((20*a-2*z)/np.sqrt(abs(100*(a**2)-(z**2))))-np.log((-20*a+2*z)/np.sqrt(abs(100*(a**2)-(z**2))))))/(3*np.pi*((100*(a**2)-(z**2))**(11/2)))"
      ],
      "execution_count": 162,
      "outputs": []
    },
    {
      "cell_type": "code",
      "metadata": {
        "colab": {
          "base_uri": "https://localhost:8080/"
        },
        "id": "OtOjWFbanMO3",
        "outputId": "f376dd52-aeb2-4cdc-82bf-9ccdce0e1950"
      },
      "source": [
        "f1(y)"
      ],
      "execution_count": 163,
      "outputs": [
        {
          "output_type": "stream",
          "name": "stderr",
          "text": [
            "/usr/local/lib/python3.7/dist-packages/ipykernel_launcher.py:1: RuntimeWarning: invalid value encountered in log\n",
            "  \"\"\"Entry point for launching an IPython kernel.\n",
            "/usr/local/lib/python3.7/dist-packages/ipykernel_launcher.py:1: RuntimeWarning: invalid value encountered in power\n",
            "  \"\"\"Entry point for launching an IPython kernel.\n"
          ]
        },
        {
          "output_type": "execute_result",
          "data": {
            "text/plain": [
              "array([nan, nan, nan, nan, nan, nan, nan, nan, nan])"
            ]
          },
          "metadata": {},
          "execution_count": 163
        }
      ]
    },
    {
      "cell_type": "code",
      "metadata": {
        "id": "2mt_F07FziSJ"
      },
      "source": [
        ""
      ],
      "execution_count": null,
      "outputs": []
    },
    {
      "cell_type": "code",
      "metadata": {
        "id": "9ye8APzfdhuN"
      },
      "source": [
        "\n",
        "y=np.arange(0,0.9,0.1)\n",
        "z=[10]*len(y)"
      ],
      "execution_count": 58,
      "outputs": []
    },
    {
      "cell_type": "code",
      "metadata": {
        "id": "bPfhQhyxeQJD"
      },
      "source": [
        "plt.plot(f1(y))"
      ],
      "execution_count": null,
      "outputs": []
    },
    {
      "cell_type": "markdown",
      "metadata": {
        "id": "d6wMjYf5zllD"
      },
      "source": [
        "#여기부터가 쓸만한거"
      ]
    },
    {
      "cell_type": "code",
      "metadata": {
        "id": "Vpsi61GWo-el"
      },
      "source": [
        "k = 1; \n",
        "Q = 10;\n",
        "w0 = 2*np.pi *100 * (10**3);\n",
        "w = w0;\n",
        "f0 = 10; \n",
        "A0 = 10;\n",
        "z=6"
      ],
      "execution_count": 152,
      "outputs": []
    },
    {
      "cell_type": "code",
      "metadata": {
        "id": "gTunySWWpXqv"
      },
      "source": [
        "g=lambda a: (k*A0)/(2*f0)*((-np.sqrt(1-(a**2))/Q)+a*(1-((w/w0)**2)))\n",
        "g_=lambda a: (k*A0)/(2*f0)*(np.sqrt(1-(a**2))/(Q+a*(1-((w/w0)**2))))"
      ],
      "execution_count": 147,
      "outputs": []
    },
    {
      "cell_type": "code",
      "metadata": {
        "colab": {
          "base_uri": "https://localhost:8080/"
        },
        "id": "3Dsh3qKiqwQB",
        "outputId": "f1610095-b9ec-4c8a-a366-8f3cf977d1f6"
      },
      "source": [
        "g(y)"
      ],
      "execution_count": 145,
      "outputs": [
        {
          "output_type": "execute_result",
          "data": {
            "text/plain": [
              "array([-0.05      , -0.04974937, -0.04898979, -0.04769696, -0.04582576,\n",
              "       -0.04330127, -0.04      , -0.03570714, -0.03      ])"
            ]
          },
          "metadata": {},
          "execution_count": 145
        }
      ]
    },
    {
      "cell_type": "code",
      "metadata": {
        "colab": {
          "base_uri": "https://localhost:8080/"
        },
        "id": "mnpR-SYirEid",
        "outputId": "ca687a6e-7996-4d05-8699-68a7f231f086"
      },
      "source": [
        "g_(y)"
      ],
      "execution_count": 146,
      "outputs": [
        {
          "output_type": "execute_result",
          "data": {
            "text/plain": [
              "array([5.        , 5.02518908, 5.10310363, 5.24142418, 5.45544726,\n",
              "       5.77350269, 6.25      , 7.00140042, 8.33333333])"
            ]
          },
          "metadata": {},
          "execution_count": 146
        }
      ]
    },
    {
      "cell_type": "code",
      "metadata": {
        "colab": {
          "base_uri": "https://localhost:8080/"
        },
        "id": "jDTptK77sFmF",
        "outputId": "66b40711-3f21-4d75-aefd-017c2c012f4e"
      },
      "source": [
        "f1(y)"
      ],
      "execution_count": 153,
      "outputs": [
        {
          "output_type": "stream",
          "name": "stderr",
          "text": [
            "/usr/local/lib/python3.7/dist-packages/ipykernel_launcher.py:1: RuntimeWarning: invalid value encountered in sqrt\n",
            "  \"\"\"Entry point for launching an IPython kernel.\n",
            "/usr/local/lib/python3.7/dist-packages/ipykernel_launcher.py:1: RuntimeWarning: invalid value encountered in log\n",
            "  \"\"\"Entry point for launching an IPython kernel.\n",
            "/usr/local/lib/python3.7/dist-packages/ipykernel_launcher.py:1: RuntimeWarning: invalid value encountered in power\n",
            "  \"\"\"Entry point for launching an IPython kernel.\n"
          ]
        },
        {
          "output_type": "execute_result",
          "data": {
            "text/plain": [
              "array([nan, nan, nan, nan, nan, nan, nan, nan, nan])"
            ]
          },
          "metadata": {},
          "execution_count": 153
        }
      ]
    },
    {
      "cell_type": "code",
      "metadata": {
        "colab": {
          "base_uri": "https://localhost:8080/",
          "height": 283
        },
        "id": "588cikkwrOE6",
        "outputId": "1be9c48e-5781-480d-8f17-4758e97b5914"
      },
      "source": [
        "plt.plot(g(y))\n",
        "plt.plot(g_(y))"
      ],
      "execution_count": 148,
      "outputs": [
        {
          "output_type": "execute_result",
          "data": {
            "text/plain": [
              "[<matplotlib.lines.Line2D at 0x7f1083879d90>]"
            ]
          },
          "metadata": {},
          "execution_count": 148
        },
        {
          "output_type": "display_data",
          "data": {
            "image/png": "[encoded data removed]",
            "text/plain": [
              "<Figure size 432x288 with 1 Axes>"
            ]
          },
          "metadata": {
            "needs_background": "light"
          }
        }
      ]
    },
    {
      "cell_type": "code",
      "metadata": {
        "id": "a3Yu-PdKtj76"
      },
      "source": [
        ""
      ],
      "execution_count": 158,
      "outputs": []
    },
    {
      "cell_type": "code",
      "metadata": {
        "id": "hxGd1PAdtOEe"
      },
      "source": [
        ""
      ],
      "execution_count": 159,
      "outputs": []
    },
    {
      "cell_type": "code",
      "metadata": {
        "id": "ISuD-DsVuEC8"
      },
      "source": [
        ""
      ],
      "execution_count": null,
      "outputs": []
    },
    {
      "cell_type": "code",
      "metadata": {
        "id": "JRh6x6O5uE9Y"
      },
      "source": [
        ""
      ],
      "execution_count": null,
      "outputs": []
    }
  ]
}