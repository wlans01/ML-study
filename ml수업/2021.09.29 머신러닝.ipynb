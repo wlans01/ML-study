{
 "cells": [
  {
   "cell_type": "code",
   "execution_count": 34,
   "metadata": {},
   "outputs": [],
   "source": [
    "import matplotlib.pyplot as plt\n",
    "import numpy as np"
   ]
  },
  {
   "cell_type": "code",
   "execution_count": 106,
   "metadata": {},
   "outputs": [],
   "source": [
    "x1 = np.array([5,15,25,35,45,55])\n",
    "y1 = np.array([5,20,14,32,22,38])"
   ]
  },
  {
   "cell_type": "code",
   "execution_count": 82,
   "metadata": {},
   "outputs": [
    {
     "data": {
      "image/png": "[encoded data removed]",
      "text/plain": [
       "<Figure size 432x288 with 1 Axes>"
      ]
     },
     "metadata": {
      "needs_background": "light"
     },
     "output_type": "display_data"
    }
   ],
   "source": [
    "plt.plot(x1,y1,'o',label='exp');\n",
    "a=0.5;b=5.5\n",
    "y=a*x+b\n",
    "plt.plot(x,y,'k-',label='fitted line');"
   ]
  },
  {
   "cell_type": "code",
   "execution_count": 88,
   "metadata": {},
   "outputs": [
    {
     "name": "stdout",
     "output_type": "stream",
     "text": [
      "[ 55 155 255 355 455 555]\n",
      "106318.83333333333\n"
     ]
    }
   ],
   "source": [
    "a=10\n",
    "b=5\n",
    "N=len(x1)\n",
    "\n",
    "y=a*x1+b\n",
    "print(y)\n",
    "\n",
    "MSE=(sum((y-y1)**2))/N\n",
    "print(MSE)\n",
    "\n",
    "\n",
    "       \n",
    "        \n",
    "        \n",
    "        "
   ]
  },
  {
   "cell_type": "code",
   "execution_count": 116,
   "metadata": {},
   "outputs": [
    {
     "name": "stdout",
     "output_type": "stream",
     "text": [
      "기울기값 a: 0.5400000000000004\n",
      "절편값 b: 5.629999999999924\n",
      "오차값: 33.75556666666667\n"
     ]
    }
   ],
   "source": [
    "a=0.1\n",
    "b=0.1\n",
    "d=0.01\n",
    "\n",
    "MSE1=999999999\n",
    "real_a=0\n",
    "real_b=0\n",
    "\n",
    "\n",
    "for i in range(100):\n",
    "    y=a*x1++b\n",
    "    MSE=(sum((y-y1)**2))/N\n",
    "    if MSE1 > MSE:\n",
    "        MSE1=MSE\n",
    "        real_a=a\n",
    "        real_b=b\n",
    "        \n",
    "\n",
    "        \n",
    "        \n",
    "    \n",
    "    for i in range(1000):\n",
    "        b+=d\n",
    "        y=a*x1++b\n",
    "        MSE=(sum((y-y1)**2))/N\n",
    "        if MSE1 > MSE:\n",
    "            MSE1=MSE\n",
    "            real_a=a\n",
    "            real_b=b\n",
    "            \n",
    "\n",
    "    a+=d\n",
    "    b=0\n",
    "\n",
    "print(f'기울기값 a: {real_a}')\n",
    "print(f'절편값 b: {real_b}')\n",
    "print(f'오차값: {MSE1}')"
   ]
  },
  {
   "cell_type": "code",
   "execution_count": 90,
   "metadata": {},
   "outputs": [
    {
     "data": {
      "text/plain": [
       "array([0. , 0.1, 0.2, 0.3, 0.4, 0.5, 0.6, 0.7, 0.8, 0.9, 1. , 1.1, 1.2,\n",
       "       1.3, 1.4, 1.5, 1.6, 1.7, 1.8, 1.9, 2. , 2.1, 2.2, 2.3, 2.4, 2.5,\n",
       "       2.6, 2.7, 2.8, 2.9, 3. , 3.1, 3.2, 3.3, 3.4, 3.5, 3.6, 3.7, 3.8,\n",
       "       3.9, 4. , 4.1, 4.2, 4.3, 4.4, 4.5, 4.6, 4.7, 4.8, 4.9, 5. , 5.1,\n",
       "       5.2, 5.3, 5.4, 5.5, 5.6, 5.7, 5.8, 5.9, 6. , 6.1, 6.2, 6.3, 6.4,\n",
       "       6.5, 6.6, 6.7, 6.8, 6.9, 7. , 7.1, 7.2, 7.3, 7.4, 7.5, 7.6, 7.7,\n",
       "       7.8, 7.9, 8. , 8.1, 8.2, 8.3, 8.4, 8.5, 8.6, 8.7, 8.8, 8.9, 9. ,\n",
       "       9.1, 9.2, 9.3, 9.4, 9.5, 9.6, 9.7, 9.8, 9.9])"
      ]
     },
     "execution_count": 90,
     "metadata": {},
     "output_type": "execute_result"
    }
   ],
   "source": []
  },
  {
   "cell_type": "code",
   "execution_count": null,
   "metadata": {},
   "outputs": [],
   "source": []
  },
  {
   "cell_type": "code",
   "execution_count": null,
   "metadata": {},
   "outputs": [],
   "source": []
  },
  {
   "cell_type": "markdown",
   "metadata": {},
   "source": [
    "최소제곱법으로 피팅하기"
   ]
  },
  {
   "cell_type": "code",
   "execution_count": 44,
   "metadata": {},
   "outputs": [
    {
     "data": {
      "image/png": "[encoded data removed]",
      "text/plain": [
       "<Figure size 432x288 with 1 Axes>"
      ]
     },
     "metadata": {
      "needs_background": "light"
     },
     "output_type": "display_data"
    }
   ],
   "source": [
    "plt.plot(x1,y1,'o',label='exp');\n"
   ]
  },
  {
   "cell_type": "code",
   "execution_count": 45,
   "metadata": {},
   "outputs": [
    {
     "data": {
      "text/plain": [
       "(0.5399999999999998, 5.633333333333329)"
      ]
     },
     "execution_count": 45,
     "metadata": {},
     "output_type": "execute_result"
    }
   ],
   "source": [
    "xdata = x1\n",
    "ydata = y1\n",
    "\n",
    "N=len(xdata)\n",
    "X=sum(xdata)/N\n",
    "Y=sum(ydata)/N\n",
    "X2=sum([i**2 for i in xdata])/N\n",
    "XY=sum(xdata*ydata)/N\n",
    "\n",
    "a2,b2=(XY-X*Y)/(X2-X*X),(X2*Y-X*XY)/(X2-X*X)\n",
    "a2,b2"
   ]
  },
  {
   "cell_type": "code",
   "execution_count": 46,
   "metadata": {},
   "outputs": [
    {
     "data": {
      "image/png": "[encoded data removed]",
      "text/plain": [
       "<Figure size 432x288 with 1 Axes>"
      ]
     },
     "metadata": {
      "needs_background": "light"
     },
     "output_type": "display_data"
    }
   ],
   "source": [
    "plt.plot(x1,y1,'o',label='exp');\n",
    "x=np.arange(0,55,1)\n",
    "y=a2*x+b2\n",
    "plt.plot(x,y,label='fitted line');\n",
    "plt.legend();"
   ]
  },
  {
   "cell_type": "markdown",
   "metadata": {},
   "source": [
    "Regression"
   ]
  },
  {
   "cell_type": "code",
   "execution_count": 40,
   "metadata": {},
   "outputs": [],
   "source": [
    "from sklearn.linear_model import LinearRegression"
   ]
  },
  {
   "cell_type": "code",
   "execution_count": 42,
   "metadata": {},
   "outputs": [
    {
     "data": {
      "text/plain": [
       "([[5], [15], [25], [35], [15], [55]], [[5], [20], [14], [32], [22], [38]])"
      ]
     },
     "execution_count": 42,
     "metadata": {},
     "output_type": "execute_result"
    }
   ],
   "source": [
    "X2=[[i]for i in x1]\n",
    "Y2=[[i]for i in y1]\n",
    "reg=LinearRegression() \n",
    "X2,Y2"
   ]
  },
  {
   "cell_type": "code",
   "execution_count": null,
   "metadata": {},
   "outputs": [],
   "source": []
  }
 ],
 "metadata": {
  "kernelspec": {
   "display_name": "Python 3",
   "language": "python",
   "name": "python3"
  },
  "language_info": {
   "codemirror_mode": {
    "name": "ipython",
    "version": 3
   },
   "file_extension": ".py",
   "mimetype": "text/x-python",
   "name": "python",
   "nbconvert_exporter": "python",
   "pygments_lexer": "ipython3",
   "version": "3.7.6"
  }
 },
 "nbformat": 4,
 "nbformat_minor": 4
}
